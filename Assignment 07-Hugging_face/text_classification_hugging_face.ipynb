{
 "cells": [
  {
   "cell_type": "code",
   "execution_count": 1,
   "id": "698a812f-ae5a-485f-ac05-726e95bba795",
   "metadata": {
    "id": "698a812f-ae5a-485f-ac05-726e95bba795"
   },
   "outputs": [],
   "source": [
    "# Import necessary libraries\n",
    "from transformers import pipeline"
   ]
  },
  {
   "cell_type": "raw",
   "id": "fb835554-96dd-47e4-80ea-0aa948f2165c",
   "metadata": {
    "id": "CEnZCzE6TIis"
   },
   "source": [
    "# Load a pre-trained distilBERT model and tokenizer for text classification\n",
    "classifier = pipeline('text-classification', model='distilbert-base-uncased-finetuned-sst-2-english')"
   ]
  },
  {
   "cell_type": "code",
   "execution_count": 2,
   "id": "7ec33cbf-3fdc-4d89-b9b4-bee3abca38a5",
   "metadata": {},
   "outputs": [
    {
     "name": "stderr",
     "output_type": "stream",
     "text": [
      "Device set to use cpu\n"
     ]
    }
   ],
   "source": [
    "classifier = pipeline('text-classification', \n",
    "                       model='distilbert-base-uncased-finetuned-sst-2-english', \n",
    "                       framework='pt')"
   ]
  },
  {
   "cell_type": "code",
   "execution_count": 3,
   "id": "KEODGmuZTJ80",
   "metadata": {
    "id": "KEODGmuZTJ80"
   },
   "outputs": [],
   "source": [
    "texts = [\n",
    "    \"I love this movie! It was fantastic and well done.\",\n",
    "    \"This was a terrible experience, I hated every minute of it.\",\n",
    "    \"The book was quite interesting, though it had a few flaws.\",\n",
    "    \"The service at the restaurant was top-notch!\"\n",
    "]"
   ]
  },
  {
   "cell_type": "code",
   "execution_count": 4,
   "id": "05ZSBTnyTQ1A",
   "metadata": {
    "id": "05ZSBTnyTQ1A"
   },
   "outputs": [],
   "source": [
    "# Make predictions\n",
    "predictions = classifier(texts)"
   ]
  },
  {
   "cell_type": "code",
   "execution_count": 5,
   "id": "BxliTg-FTYrY",
   "metadata": {
    "colab": {
     "base_uri": "https://localhost:8080/"
    },
    "id": "BxliTg-FTYrY",
    "outputId": "2d5dc097-a7fb-4bd3-d7de-ebf96dab983e"
   },
   "outputs": [
    {
     "name": "stdout",
     "output_type": "stream",
     "text": [
      "Text: I love this movie! It was fantastic and well done.\n",
      "Label: POSITIVE, Confidence: 0.9999\n",
      "\n",
      "Text: This was a terrible experience, I hated every minute of it.\n",
      "Label: NEGATIVE, Confidence: 0.9992\n",
      "\n",
      "Text: The book was quite interesting, though it had a few flaws.\n",
      "Label: POSITIVE, Confidence: 0.9938\n",
      "\n",
      "Text: The service at the restaurant was top-notch!\n",
      "Label: POSITIVE, Confidence: 0.9997\n",
      "\n"
     ]
    }
   ],
   "source": [
    "# Output predictions\n",
    "for i, prediction in enumerate(predictions):\n",
    "    print(f\"Text: {texts[i]}\")\n",
    "    print(f\"Label: {prediction['label']}, Confidence: {prediction['score']:.4f}\\n\")"
   ]
  },
  {
   "cell_type": "code",
   "execution_count": 35,
   "id": "-9Tm1tdCVn9r",
   "metadata": {
    "id": "-9Tm1tdCVn9r"
   },
   "outputs": [],
   "source": []
  }
 ],
 "metadata": {
  "colab": {
   "provenance": []
  },
  "kernelspec": {
   "display_name": "Python 3 (ipykernel)",
   "language": "python",
   "name": "python3"
  },
  "language_info": {
   "codemirror_mode": {
    "name": "ipython",
    "version": 3
   },
   "file_extension": ".py",
   "mimetype": "text/x-python",
   "name": "python",
   "nbconvert_exporter": "python",
   "pygments_lexer": "ipython3",
   "version": "3.12.8"
  }
 },
 "nbformat": 4,
 "nbformat_minor": 5
}
