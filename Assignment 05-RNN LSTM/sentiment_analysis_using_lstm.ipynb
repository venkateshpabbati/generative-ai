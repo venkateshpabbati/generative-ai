{
 "cells": [
  {
   "cell_type": "code",
   "execution_count": 2,
   "id": "4934b17d-a075-469e-9070-e4ae7c1b9133",
   "metadata": {},
   "outputs": [],
   "source": [
    "# import necessary libraries\n",
    "import tensorflow as tf\n",
    "import tensorflow_datasets as tfds\n",
    "import numpy as np\n",
    "import matplotlib.pyplot as plt\n",
    "from tensorflow.keras.preprocessing.text import Tokenizer\n",
    "from tensorflow.keras.preprocessing.sequence import pad_sequences\n",
    "from tensorflow.keras.callbacks import EarlyStopping"
   ]
  },
  {
   "cell_type": "markdown",
   "id": "a82e348c-443d-4560-8600-1fcfc20ad2f8",
   "metadata": {},
   "source": [
    "# Dataset Preparation:"
   ]
  },
  {
   "cell_type": "code",
   "execution_count": 3,
   "id": "0f9ee8ba-19f1-4d2c-a050-384d0b111aa6",
   "metadata": {},
   "outputs": [
    {
     "name": "stdout",
     "output_type": "stream",
     "text": [
      "\u001b[1mDownloading and preparing dataset Unknown size (download: Unknown size, generated: Unknown size, total: Unknown size) to C:\\Users\\venka\\tensorflow_datasets\\imdb_reviews\\plain_text\\1.0.0...\u001b[0m\n"
     ]
    },
    {
     "data": {
      "application/vnd.jupyter.widget-view+json": {
       "model_id": "ed6300547e7f4acb8e9f945d4101ca19",
       "version_major": 2,
       "version_minor": 0
      },
      "text/plain": [
       "Dl Completed...: 0 url [00:00, ? url/s]"
      ]
     },
     "metadata": {},
     "output_type": "display_data"
    },
    {
     "data": {
      "application/vnd.jupyter.widget-view+json": {
       "model_id": "5180ed623b394088a4283d462ceb70ca",
       "version_major": 2,
       "version_minor": 0
      },
      "text/plain": [
       "Dl Size...: 0 MiB [00:00, ? MiB/s]"
      ]
     },
     "metadata": {},
     "output_type": "display_data"
    },
    {
     "data": {
      "application/vnd.jupyter.widget-view+json": {
       "model_id": "",
       "version_major": 2,
       "version_minor": 0
      },
      "text/plain": [
       "Generating splits...:   0%|          | 0/3 [00:00<?, ? splits/s]"
      ]
     },
     "metadata": {},
     "output_type": "display_data"
    },
    {
     "data": {
      "application/vnd.jupyter.widget-view+json": {
       "model_id": "",
       "version_major": 2,
       "version_minor": 0
      },
      "text/plain": [
       "Generating train examples...: 0 examples [00:00, ? examples/s]"
      ]
     },
     "metadata": {},
     "output_type": "display_data"
    },
    {
     "data": {
      "application/vnd.jupyter.widget-view+json": {
       "model_id": "",
       "version_major": 2,
       "version_minor": 0
      },
      "text/plain": [
       "Shuffling C:\\Users\\venka\\tensorflow_datasets\\imdb_reviews\\plain_text\\incomplete.1IJ1CD_1.0.0\\imdb_reviews-trai…"
      ]
     },
     "metadata": {},
     "output_type": "display_data"
    },
    {
     "data": {
      "application/vnd.jupyter.widget-view+json": {
       "model_id": "",
       "version_major": 2,
       "version_minor": 0
      },
      "text/plain": [
       "Generating test examples...: 0 examples [00:00, ? examples/s]"
      ]
     },
     "metadata": {},
     "output_type": "display_data"
    },
    {
     "data": {
      "application/vnd.jupyter.widget-view+json": {
       "model_id": "",
       "version_major": 2,
       "version_minor": 0
      },
      "text/plain": [
       "Shuffling C:\\Users\\venka\\tensorflow_datasets\\imdb_reviews\\plain_text\\incomplete.1IJ1CD_1.0.0\\imdb_reviews-test…"
      ]
     },
     "metadata": {},
     "output_type": "display_data"
    },
    {
     "data": {
      "application/vnd.jupyter.widget-view+json": {
       "model_id": "",
       "version_major": 2,
       "version_minor": 0
      },
      "text/plain": [
       "Generating unsupervised examples...: 0 examples [00:00, ? examples/s]"
      ]
     },
     "metadata": {},
     "output_type": "display_data"
    },
    {
     "data": {
      "application/vnd.jupyter.widget-view+json": {
       "model_id": "",
       "version_major": 2,
       "version_minor": 0
      },
      "text/plain": [
       "Shuffling C:\\Users\\venka\\tensorflow_datasets\\imdb_reviews\\plain_text\\incomplete.1IJ1CD_1.0.0\\imdb_reviews-unsu…"
      ]
     },
     "metadata": {},
     "output_type": "display_data"
    },
    {
     "name": "stdout",
     "output_type": "stream",
     "text": [
      "\u001b[1mDataset imdb_reviews downloaded and prepared to C:\\Users\\venka\\tensorflow_datasets\\imdb_reviews\\plain_text\\1.0.0. Subsequent calls will reuse this data.\u001b[0m\n"
     ]
    }
   ],
   "source": [
    "# Load the IMDb movie review dataset from TensorFlow Datasets\n",
    "imdb, info = tfds.load(\"imdb_reviews\", with_info=True, as_supervised=True)\n",
    "train_data, test_data = imdb['train'], imdb['test']"
   ]
  },
  {
   "cell_type": "markdown",
   "id": "ff5d832b-2370-46ba-8d30-971e1f4f1491",
   "metadata": {},
   "source": [
    "# Text Preprocessing:"
   ]
  },
  {
   "cell_type": "code",
   "execution_count": 4,
   "id": "513e6b3e-b668-4134-8ae2-c96bba135161",
   "metadata": {},
   "outputs": [],
   "source": [
    "# Parameters for preprocessing\n",
    "vocab_size = 10000\n",
    "max_length = 100\n",
    "embedding_dim = 16\n",
    "trunc_type = 'post'\n",
    "oov_token = \"<OOV>\""
   ]
  },
  {
   "cell_type": "code",
   "execution_count": 5,
   "id": "c1cfb35b-5525-4c9b-90a0-8ca0e286edb6",
   "metadata": {},
   "outputs": [],
   "source": [
    "# Initialize the tokenizer\n",
    "tokenizer = Tokenizer(num_words=vocab_size, oov_token=oov_token)\n",
    "tokenizer.fit_on_texts([x.numpy().decode('utf-8') for x, y in train_data])"
   ]
  },
  {
   "cell_type": "code",
   "execution_count": 6,
   "id": "27dcbeaa-b436-4355-9cb4-c65a1f982cab",
   "metadata": {},
   "outputs": [],
   "source": [
    "# Prepare training data\n",
    "train_sentences = []\n",
    "train_labels = []"
   ]
  },
  {
   "cell_type": "code",
   "execution_count": 7,
   "id": "790e8f63-12cb-4b28-8c7f-d07a1aba214b",
   "metadata": {},
   "outputs": [],
   "source": [
    "# Append sentences and labels from the training data\n",
    "for s, l in train_data:\n",
    "    train_sentences.append(s.numpy().decode('utf-8'))\n",
    "    train_labels.append(l.numpy())"
   ]
  },
  {
   "cell_type": "code",
   "execution_count": 8,
   "id": "00952136-3215-4c76-b520-be745fa78732",
   "metadata": {},
   "outputs": [],
   "source": [
    "# Convert text to sequences of integers\n",
    "train_sequences = tokenizer.texts_to_sequences(train_sentences)\n",
    "train_padded = pad_sequences(train_sequences, maxlen=max_length, truncating=trunc_type)"
   ]
  },
  {
   "cell_type": "code",
   "execution_count": 9,
   "id": "d001294d-12ce-4a1e-a92c-98501f5bdeb2",
   "metadata": {},
   "outputs": [],
   "source": [
    "# Convert labels to numpy array for compatibility\n",
    "train_labels = np.array(train_labels)"
   ]
  },
  {
   "cell_type": "code",
   "execution_count": 10,
   "id": "1ba69496-1ef1-4569-b966-3c2d7e1db5da",
   "metadata": {},
   "outputs": [],
   "source": [
    "# Prepare testing data\n",
    "test_sentences = []\n",
    "test_labels = []"
   ]
  },
  {
   "cell_type": "code",
   "execution_count": 11,
   "id": "260c98d5-2353-4681-829d-af8564f18f60",
   "metadata": {},
   "outputs": [],
   "source": [
    "# Append sentences and labels from the testing data\n",
    "for s, l in test_data:\n",
    "    test_sentences.append(s.numpy().decode('utf-8'))\n",
    "    test_labels.append(l.numpy())"
   ]
  },
  {
   "cell_type": "code",
   "execution_count": 12,
   "id": "01e20ff0-0fcf-4778-a041-e5da9475bea4",
   "metadata": {},
   "outputs": [],
   "source": [
    "# Convert text to sequences of integers\n",
    "test_sequences = tokenizer.texts_to_sequences(test_sentences)\n",
    "test_padded = pad_sequences(test_sequences, maxlen=max_length)"
   ]
  },
  {
   "cell_type": "code",
   "execution_count": 13,
   "id": "4457682c-a52b-47ba-8006-4552cb50f261",
   "metadata": {},
   "outputs": [],
   "source": [
    "# Convert labels to numpy array for compatibility\n",
    "test_labels = np.array(test_labels)"
   ]
  },
  {
   "cell_type": "markdown",
   "id": "94858e84-de73-44a5-a55d-f2ce79931868",
   "metadata": {},
   "source": [
    "# Build LSTM Model:"
   ]
  },
  {
   "cell_type": "code",
   "execution_count": 14,
   "id": "db7e24e1-636d-45fd-b0ce-2ad1aa2477d1",
   "metadata": {},
   "outputs": [],
   "source": [
    "# Define the architecture of the LSTM model\n",
    "model = tf.keras.Sequential([\n",
    "    tf.keras.layers.Embedding(input_dim=vocab_size, output_dim=embedding_dim),  # Embedding layer\n",
    "    tf.keras.layers.LSTM(64, dropout=0.2, recurrent_dropout=0.2),  # LSTM layer with dropout for regularization\n",
    "    tf.keras.layers.Dense(64, activation='relu', kernel_regularizer=tf.keras.regularizers.l2(0.01)),  # Dense layer with L2 regularization\n",
    "    tf.keras.layers.Dense(1, activation='sigmoid')  # Output layer with sigmoid activation for binary classification\n",
    "])"
   ]
  },
  {
   "cell_type": "code",
   "execution_count": 15,
   "id": "610d8943-005f-4ea2-9a34-9278d820e873",
   "metadata": {},
   "outputs": [],
   "source": [
    "# Compile the model\n",
    "model.compile(loss='binary_crossentropy',  # Loss function for binary classification\n",
    "              optimizer='adam',  # Adam optimizer\n",
    "              metrics=['accuracy'])  # Metric to evaluate during training"
   ]
  },
  {
   "cell_type": "code",
   "execution_count": 16,
   "id": "7ea4ae42-4026-485f-a5ff-f8800833a23a",
   "metadata": {},
   "outputs": [
    {
     "data": {
      "text/html": [
       "<pre style=\"white-space:pre;overflow-x:auto;line-height:normal;font-family:Menlo,'DejaVu Sans Mono',consolas,'Courier New',monospace\"><span style=\"font-weight: bold\">Model: \"sequential\"</span>\n",
       "</pre>\n"
      ],
      "text/plain": [
       "\u001b[1mModel: \"sequential\"\u001b[0m\n"
      ]
     },
     "metadata": {},
     "output_type": "display_data"
    },
    {
     "data": {
      "text/html": [
       "<pre style=\"white-space:pre;overflow-x:auto;line-height:normal;font-family:Menlo,'DejaVu Sans Mono',consolas,'Courier New',monospace\">┏━━━━━━━━━━━━━━━━━━━━━━━━━━━━━━━━━━━━━━┳━━━━━━━━━━━━━━━━━━━━━━━━━━━━━┳━━━━━━━━━━━━━━━━━┓\n",
       "┃<span style=\"font-weight: bold\"> Layer (type)                         </span>┃<span style=\"font-weight: bold\"> Output Shape                </span>┃<span style=\"font-weight: bold\">         Param # </span>┃\n",
       "┡━━━━━━━━━━━━━━━━━━━━━━━━━━━━━━━━━━━━━━╇━━━━━━━━━━━━━━━━━━━━━━━━━━━━━╇━━━━━━━━━━━━━━━━━┩\n",
       "│ embedding (<span style=\"color: #0087ff; text-decoration-color: #0087ff\">Embedding</span>)                │ ?                           │     <span style=\"color: #00af00; text-decoration-color: #00af00\">0</span> (unbuilt) │\n",
       "├──────────────────────────────────────┼─────────────────────────────┼─────────────────┤\n",
       "│ lstm (<span style=\"color: #0087ff; text-decoration-color: #0087ff\">LSTM</span>)                          │ ?                           │     <span style=\"color: #00af00; text-decoration-color: #00af00\">0</span> (unbuilt) │\n",
       "├──────────────────────────────────────┼─────────────────────────────┼─────────────────┤\n",
       "│ dense (<span style=\"color: #0087ff; text-decoration-color: #0087ff\">Dense</span>)                        │ ?                           │     <span style=\"color: #00af00; text-decoration-color: #00af00\">0</span> (unbuilt) │\n",
       "├──────────────────────────────────────┼─────────────────────────────┼─────────────────┤\n",
       "│ dense_1 (<span style=\"color: #0087ff; text-decoration-color: #0087ff\">Dense</span>)                      │ ?                           │     <span style=\"color: #00af00; text-decoration-color: #00af00\">0</span> (unbuilt) │\n",
       "└──────────────────────────────────────┴─────────────────────────────┴─────────────────┘\n",
       "</pre>\n"
      ],
      "text/plain": [
       "┏━━━━━━━━━━━━━━━━━━━━━━━━━━━━━━━━━━━━━━┳━━━━━━━━━━━━━━━━━━━━━━━━━━━━━┳━━━━━━━━━━━━━━━━━┓\n",
       "┃\u001b[1m \u001b[0m\u001b[1mLayer (type)                        \u001b[0m\u001b[1m \u001b[0m┃\u001b[1m \u001b[0m\u001b[1mOutput Shape               \u001b[0m\u001b[1m \u001b[0m┃\u001b[1m \u001b[0m\u001b[1m        Param #\u001b[0m\u001b[1m \u001b[0m┃\n",
       "┡━━━━━━━━━━━━━━━━━━━━━━━━━━━━━━━━━━━━━━╇━━━━━━━━━━━━━━━━━━━━━━━━━━━━━╇━━━━━━━━━━━━━━━━━┩\n",
       "│ embedding (\u001b[38;5;33mEmbedding\u001b[0m)                │ ?                           │     \u001b[38;5;34m0\u001b[0m (unbuilt) │\n",
       "├──────────────────────────────────────┼─────────────────────────────┼─────────────────┤\n",
       "│ lstm (\u001b[38;5;33mLSTM\u001b[0m)                          │ ?                           │     \u001b[38;5;34m0\u001b[0m (unbuilt) │\n",
       "├──────────────────────────────────────┼─────────────────────────────┼─────────────────┤\n",
       "│ dense (\u001b[38;5;33mDense\u001b[0m)                        │ ?                           │     \u001b[38;5;34m0\u001b[0m (unbuilt) │\n",
       "├──────────────────────────────────────┼─────────────────────────────┼─────────────────┤\n",
       "│ dense_1 (\u001b[38;5;33mDense\u001b[0m)                      │ ?                           │     \u001b[38;5;34m0\u001b[0m (unbuilt) │\n",
       "└──────────────────────────────────────┴─────────────────────────────┴─────────────────┘\n"
      ]
     },
     "metadata": {},
     "output_type": "display_data"
    },
    {
     "data": {
      "text/html": [
       "<pre style=\"white-space:pre;overflow-x:auto;line-height:normal;font-family:Menlo,'DejaVu Sans Mono',consolas,'Courier New',monospace\"><span style=\"font-weight: bold\"> Total params: </span><span style=\"color: #00af00; text-decoration-color: #00af00\">0</span> (0.00 B)\n",
       "</pre>\n"
      ],
      "text/plain": [
       "\u001b[1m Total params: \u001b[0m\u001b[38;5;34m0\u001b[0m (0.00 B)\n"
      ]
     },
     "metadata": {},
     "output_type": "display_data"
    },
    {
     "data": {
      "text/html": [
       "<pre style=\"white-space:pre;overflow-x:auto;line-height:normal;font-family:Menlo,'DejaVu Sans Mono',consolas,'Courier New',monospace\"><span style=\"font-weight: bold\"> Trainable params: </span><span style=\"color: #00af00; text-decoration-color: #00af00\">0</span> (0.00 B)\n",
       "</pre>\n"
      ],
      "text/plain": [
       "\u001b[1m Trainable params: \u001b[0m\u001b[38;5;34m0\u001b[0m (0.00 B)\n"
      ]
     },
     "metadata": {},
     "output_type": "display_data"
    },
    {
     "data": {
      "text/html": [
       "<pre style=\"white-space:pre;overflow-x:auto;line-height:normal;font-family:Menlo,'DejaVu Sans Mono',consolas,'Courier New',monospace\"><span style=\"font-weight: bold\"> Non-trainable params: </span><span style=\"color: #00af00; text-decoration-color: #00af00\">0</span> (0.00 B)\n",
       "</pre>\n"
      ],
      "text/plain": [
       "\u001b[1m Non-trainable params: \u001b[0m\u001b[38;5;34m0\u001b[0m (0.00 B)\n"
      ]
     },
     "metadata": {},
     "output_type": "display_data"
    }
   ],
   "source": [
    "# Print model summary\n",
    "model.summary()"
   ]
  },
  {
   "cell_type": "markdown",
   "id": "9bb964cc-5555-47ea-964d-6ccbc70a09f1",
   "metadata": {},
   "source": [
    "# Train LSTM Model:"
   ]
  },
  {
   "cell_type": "code",
   "execution_count": 17,
   "id": "02fac96b-dd55-4f19-b0e4-c94e176f0b96",
   "metadata": {},
   "outputs": [],
   "source": [
    "# Early stopping callback to halt training when validation performance stops improving\n",
    "early_stopping = EarlyStopping(monitor='val_loss', patience=3, restore_best_weights=True)"
   ]
  },
  {
   "cell_type": "code",
   "execution_count": 18,
   "id": "71775a53-de4b-442a-89c7-f3b12d5baf2d",
   "metadata": {},
   "outputs": [
    {
     "name": "stdout",
     "output_type": "stream",
     "text": [
      "Epoch 1/10\n",
      "782/782 - 60s - 76ms/step - accuracy: 0.6569 - loss: 0.6832 - val_accuracy: 0.7548 - val_loss: 0.5330\n",
      "Epoch 2/10\n",
      "782/782 - 55s - 71ms/step - accuracy: 0.7028 - loss: 0.5739 - val_accuracy: 0.7360 - val_loss: 0.6316\n",
      "Epoch 3/10\n",
      "782/782 - 52s - 67ms/step - accuracy: 0.7059 - loss: 0.5665 - val_accuracy: 0.7285 - val_loss: 0.5864\n",
      "Epoch 4/10\n",
      "782/782 - 52s - 66ms/step - accuracy: 0.7842 - loss: 0.4864 - val_accuracy: 0.8095 - val_loss: 0.4336\n",
      "Epoch 5/10\n",
      "782/782 - 316s - 404ms/step - accuracy: 0.8262 - loss: 0.4143 - val_accuracy: 0.8262 - val_loss: 0.4050\n",
      "Epoch 6/10\n",
      "782/782 - 56s - 71ms/step - accuracy: 0.8635 - loss: 0.3457 - val_accuracy: 0.8329 - val_loss: 0.4014\n",
      "Epoch 7/10\n",
      "782/782 - 53s - 67ms/step - accuracy: 0.8840 - loss: 0.3052 - val_accuracy: 0.8223 - val_loss: 0.4317\n",
      "Epoch 8/10\n",
      "782/782 - 56s - 71ms/step - accuracy: 0.8990 - loss: 0.2750 - val_accuracy: 0.8300 - val_loss: 0.4075\n",
      "Epoch 9/10\n",
      "782/782 - 1798s - 2s/step - accuracy: 0.9083 - loss: 0.2529 - val_accuracy: 0.8253 - val_loss: 0.4355\n"
     ]
    }
   ],
   "source": [
    "# Train the LSTM model on the training data\n",
    "num_epochs = 10\n",
    "history = model.fit(train_padded, train_labels,  # Training data\n",
    "                    epochs=num_epochs,  # Number of epochs\n",
    "                    validation_data=(test_padded, test_labels),  # Validation data\n",
    "                    verbose=2,  # Verbosity level (2: progress bar and metrics)\n",
    "                    callbacks=[early_stopping])  # Apply early stopping"
   ]
  },
  {
   "cell_type": "markdown",
   "id": "ce83f010-c5c6-41ec-a0aa-1a0b9316e4b4",
   "metadata": {},
   "source": [
    "# Evaluation:"
   ]
  },
  {
   "cell_type": "code",
   "execution_count": 19,
   "id": "6ad04ed4-0b8a-4e12-8008-f267b64d3b7f",
   "metadata": {},
   "outputs": [
    {
     "name": "stdout",
     "output_type": "stream",
     "text": [
      "\u001b[1m782/782\u001b[0m \u001b[32m━━━━━━━━━━━━━━━━━━━━\u001b[0m\u001b[37m\u001b[0m \u001b[1m13s\u001b[0m 17ms/step - accuracy: 0.8317 - loss: 0.4058\n"
     ]
    }
   ],
   "source": [
    "# Evaluate the model on the test set\n",
    "test_loss, test_acc = model.evaluate(test_padded, test_labels)"
   ]
  },
  {
   "cell_type": "code",
   "execution_count": 20,
   "id": "85edaa9f-38c0-49b5-babc-ba5bb84bd1f0",
   "metadata": {},
   "outputs": [
    {
     "name": "stdout",
     "output_type": "stream",
     "text": [
      "Test Accuracy: 0.8329200148582458\n"
     ]
    }
   ],
   "source": [
    "# Print test accuracy\n",
    "print(f'Test Accuracy: {test_acc}')"
   ]
  },
  {
   "cell_type": "code",
   "execution_count": 21,
   "id": "f05ddcb3-0704-451b-a3d4-a44ac3fe468f",
   "metadata": {},
   "outputs": [],
   "source": [
    "# Plotting training history\n",
    "def plot_graphs(history, metric):\n",
    "    plt.figure(figsize=(12, 6))\n",
    "    plt.plot(history.history[metric], label='Training ' + metric)\n",
    "    plt.plot(history.history['val_' + metric], label='Validation ' + metric)\n",
    "    plt.xlabel(\"Epochs\")\n",
    "    plt.ylabel(metric.capitalize())\n",
    "    plt.legend()\n",
    "    plt.grid(True)\n",
    "    plt.show()"
   ]
  },
  {
   "cell_type": "code",
   "execution_count": 22,
   "id": "b4c806e1-3d2e-4143-bf94-5286e60b0fe6",
   "metadata": {},
   "outputs": [
    {
     "data": {
      "image/png": "[encoded data removed]",
      "text/plain": [
       "<Figure size 1200x600 with 1 Axes>"
      ]
     },
     "metadata": {},
     "output_type": "display_data"
    },
    {
     "data": {
      "image/png": "[encoded data removed]",
      "text/plain": [
       "<Figure size 1200x600 with 1 Axes>"
      ]
     },
     "metadata": {},
     "output_type": "display_data"
    }
   ],
   "source": [
    "# Plot accuracy and loss\n",
    "plot_graphs(history, 'accuracy')\n",
    "plot_graphs(history, 'loss')"
   ]
  },
  {
   "cell_type": "markdown",
   "id": "2506de28-52e9-4139-b926-64f351bdd487",
   "metadata": {},
   "source": [
    "# Inference Code"
   ]
  },
  {
   "cell_type": "code",
   "execution_count": 23,
   "id": "e7efb50d-ca59-4005-9825-43d3775ea4cd",
   "metadata": {},
   "outputs": [],
   "source": [
    "# Function to predict the sentiment of a new review\n",
    "def predict_review(review):\n",
    "    # Convert review to sequence and pad it\n",
    "    sequence = tokenizer.texts_to_sequences([review])\n",
    "    padded_sequence = pad_sequences(sequence, maxlen=max_length, truncating=trunc_type)\n",
    "    \n",
    "    # Predict sentiment\n",
    "    prediction = model.predict(padded_sequence)\n",
    "    sentiment = 'positive' if prediction > 0.5 else 'negative'\n",
    "    return sentiment"
   ]
  },
  {
   "cell_type": "code",
   "execution_count": 24,
   "id": "b7d3734b-daa1-4720-afc0-ba99d855c403",
   "metadata": {},
   "outputs": [
    {
     "name": "stdout",
     "output_type": "stream",
     "text": [
      "\u001b[1m1/1\u001b[0m \u001b[32m━━━━━━━━━━━━━━━━━━━━\u001b[0m\u001b[37m\u001b[0m \u001b[1m0s\u001b[0m 420ms/step\n",
      "positive\n"
     ]
    }
   ],
   "source": [
    "# Example prediction\n",
    "new_review = \"The movie was fantastic and full of thrilling moments!\"\n",
    "print(predict_review(new_review))"
   ]
  },
  {
   "cell_type": "code",
   "execution_count": null,
   "id": "ef8b6f04-b777-4cc1-8770-f6264d1039ec",
   "metadata": {},
   "outputs": [],
   "source": []
  }
 ],
 "metadata": {
  "kernelspec": {
   "display_name": "Python 3 (ipykernel)",
   "language": "python",
   "name": "python3"
  },
  "language_info": {
   "codemirror_mode": {
    "name": "ipython",
    "version": 3
   },
   "file_extension": ".py",
   "mimetype": "text/x-python",
   "name": "python",
   "nbconvert_exporter": "python",
   "pygments_lexer": "ipython3",
   "version": "3.12.7"
  }
 },
 "nbformat": 4,
 "nbformat_minor": 5
}
