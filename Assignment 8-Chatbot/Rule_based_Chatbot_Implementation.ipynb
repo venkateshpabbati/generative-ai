{
  "cells": [
    {
      "cell_type": "code",
      "execution_count": 6,
      "metadata": {},
      "outputs": [
        {
          "name": "stdout",
          "output_type": "stream",
          "text": [
            "Welcome to the Rule-based Chatbot!\n",
            "You can ask for a greeting, time, or a joke.\n",
            "Chatbot: Hi there! What can I do for you?\n",
            "Chatbot: The current time is 02:26 PM.\n",
            "Chatbot: Why do cows wear bells? Because their horns don't work!\n",
            "Chatbot: Goodbye! Have a nice day!\n"
          ]
        }
      ],
      "source": [
        "import time\n",
        "import random\n",
        "\n",
        "def greet_user():\n",
        "    \"\"\"Function to greet the user.\"\"\"\n",
        "    greetings = [\n",
        "        \"Hello! How can I assist you today?\", \n",
        "        \"Hi there! What can I do for you?\", \n",
        "        \"Greetings! How may I help you today?\"\n",
        "    ]\n",
        "    return random.choice(greetings)\n",
        "\n",
        "def tell_time():\n",
        "    \"\"\"Function to tell the current time.\"\"\"\n",
        "    current_time = time.strftime(\"%I:%M %p\")\n",
        "    return f\"The current time is {current_time}.\"\n",
        "\n",
        "def tell_joke():\n",
        "    \"\"\"Function to tell a joke.\"\"\"\n",
        "    jokes = [\n",
        "        \"Why don't scientists trust atoms? Because they make up everything!\",\n",
        "        \"Why was the math book sad? It had too many problems.\",\n",
        "        \"Why do cows wear bells? Because their horns don't work!\"\n",
        "    ]\n",
        "    return random.choice(jokes)\n",
        "\n",
        "def chatbot():\n",
        "    \"\"\"Main function to handle user input.\"\"\"\n",
        "    print(\"Welcome to the Rule-based Chatbot!\")\n",
        "    print(\"You can ask for a greeting, time, or a joke.\")\n",
        "\n",
        "    while True:\n",
        "        user_input = input(\"You: \").lower()\n",
        "\n",
        "        if any(greet in user_input for greet in [\"hello\", \"hi\", \"greet\"]):\n",
        "            print(\"Chatbot:\", greet_user())\n",
        "        elif \"time\" in user_input:\n",
        "            print(\"Chatbot:\", tell_time())\n",
        "        elif \"joke\" in user_input:\n",
        "            print(\"Chatbot:\", tell_joke())\n",
        "        elif any(exit_word in user_input for exit_word in [\"bye\", \"exit\"]):\n",
        "            print(\"Chatbot: Goodbye! Have a nice day!\")\n",
        "            break\n",
        "        else:\n",
        "            print(\"Chatbot: I'm sorry, I don't understand that. Please ask for a greeting, the time, or a joke.\")\n",
        "\n",
        "# Start the chatbot\n",
        "if __name__ == \"__main__\":\n",
        "    chatbot()"
      ]
    },
    {
      "cell_type": "code",
      "execution_count": null,
      "metadata": {},
      "outputs": [],
      "source": []
    }
  ],
  "metadata": {
    "colab": {
      "provenance": []
    },
    "kernelspec": {
      "display_name": ".venv",
      "language": "python",
      "name": "python3"
    },
    "language_info": {
      "codemirror_mode": {
        "name": "ipython",
        "version": 3
      },
      "file_extension": ".py",
      "mimetype": "text/x-python",
      "name": "python",
      "nbconvert_exporter": "python",
      "pygments_lexer": "ipython3",
      "version": "3.13.1"
    }
  },
  "nbformat": 4,
  "nbformat_minor": 0
}
