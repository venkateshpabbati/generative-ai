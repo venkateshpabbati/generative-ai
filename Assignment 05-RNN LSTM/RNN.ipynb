{
 "cells": [
  {
   "cell_type": "code",
   "execution_count": 1,
   "id": "62de9334-bb0d-4a31-b7e6-b1161fe16855",
   "metadata": {},
   "outputs": [],
   "source": [
    "# Import necessary libraries\n",
    "import numpy as np\n",
    "import pandas as pd\n",
    "import re\n",
    "import nltk\n",
    "from tensorflow.keras.preprocessing.text import Tokenizer\n",
    "from tensorflow.keras.utils import to_categorical\n",
    "from tensorflow.keras.preprocessing.sequence import pad_sequences\n",
    "from sklearn.model_selection import train_test_split\n",
    "from tensorflow.keras.models import Sequential\n",
    "from tensorflow.keras.layers import Embedding, Bidirectional, LSTM, Dense, Dropout\n",
    "from tensorflow.keras.optimizers import Adam\n",
    "from tensorflow.keras.callbacks import ReduceLROnPlateau, ModelCheckpoint, EarlyStopping\n",
    "from nltk.corpus import stopwords\n",
    "from nltk.stem import WordNetLemmatizer\n",
    "import matplotlib.pyplot as plt"
   ]
  },
  {
   "cell_type": "code",
   "execution_count": 2,
   "id": "3f586ee6-f540-4b09-8ab1-26c055026b88",
   "metadata": {},
   "outputs": [
    {
     "name": "stderr",
     "output_type": "stream",
     "text": [
      "[nltk_data] Downloading package stopwords to\n",
      "[nltk_data]     C:\\Users\\venka\\AppData\\Roaming\\nltk_data...\n",
      "[nltk_data]   Package stopwords is already up-to-date!\n",
      "[nltk_data] Downloading package wordnet to\n",
      "[nltk_data]     C:\\Users\\venka\\AppData\\Roaming\\nltk_data...\n",
      "[nltk_data]   Package wordnet is already up-to-date!\n"
     ]
    },
    {
     "data": {
      "text/plain": [
       "True"
      ]
     },
     "execution_count": 2,
     "metadata": {},
     "output_type": "execute_result"
    }
   ],
   "source": [
    "# Download necessary NLTK data for stopwords and lemmatization\n",
    "nltk.download('stopwords')\n",
    "nltk.download('wordnet')"
   ]
  },
  {
   "cell_type": "markdown",
   "id": "f713688d-a557-4c70-a37b-2a0d982927fd",
   "metadata": {},
   "source": [
    "# Data Loading and Preprocessing"
   ]
  },
  {
   "cell_type": "code",
   "execution_count": 3,
   "id": "54ec25d9-d410-469f-a605-436e7c68e02e",
   "metadata": {},
   "outputs": [],
   "source": [
    "# Load the dataset\n",
    "data = pd.read_csv('Copy of ArticlesMarch2018.csv')"
   ]
  },
  {
   "cell_type": "code",
   "execution_count": 4,
   "id": "ab33c443-296f-4a00-a02f-7f71c7e5cf82",
   "metadata": {},
   "outputs": [
    {
     "data": {
      "text/html": [
       "<div>\n",
       "<style scoped>\n",
       "    .dataframe tbody tr th:only-of-type {\n",
       "        vertical-align: middle;\n",
       "    }\n",
       "\n",
       "    .dataframe tbody tr th {\n",
       "        vertical-align: top;\n",
       "    }\n",
       "\n",
       "    .dataframe thead th {\n",
       "        text-align: right;\n",
       "    }\n",
       "</style>\n",
       "<table border=\"1\" class=\"dataframe\">\n",
       "  <thead>\n",
       "    <tr style=\"text-align: right;\">\n",
       "      <th></th>\n",
       "      <th>articleID</th>\n",
       "      <th>byline</th>\n",
       "      <th>documentType</th>\n",
       "      <th>headline</th>\n",
       "      <th>keywords</th>\n",
       "      <th>multimedia</th>\n",
       "      <th>newDesk</th>\n",
       "      <th>printPage</th>\n",
       "      <th>pubDate</th>\n",
       "      <th>sectionName</th>\n",
       "      <th>snippet</th>\n",
       "      <th>source</th>\n",
       "      <th>typeOfMaterial</th>\n",
       "      <th>webURL</th>\n",
       "      <th>articleWordCount</th>\n",
       "    </tr>\n",
       "  </thead>\n",
       "  <tbody>\n",
       "    <tr>\n",
       "      <th>0</th>\n",
       "      <td>5a974697410cf7000162e8a4</td>\n",
       "      <td>By BINYAMIN APPELBAUM</td>\n",
       "      <td>article</td>\n",
       "      <td>Virtual Coins, Real Resources</td>\n",
       "      <td>['Bitcoin (Currency)', 'Electric Light and Pow...</td>\n",
       "      <td>1</td>\n",
       "      <td>Business</td>\n",
       "      <td>1</td>\n",
       "      <td>01-03-2018 00:17</td>\n",
       "      <td>Economy</td>\n",
       "      <td>America has a productivity problem. One explan...</td>\n",
       "      <td>The New York Times</td>\n",
       "      <td>News</td>\n",
       "      <td>https://www.nytimes.com/2018/02/28/business/ec...</td>\n",
       "      <td>1207</td>\n",
       "    </tr>\n",
       "  </tbody>\n",
       "</table>\n",
       "</div>"
      ],
      "text/plain": [
       "                  articleID                 byline documentType  \\\n",
       "0  5a974697410cf7000162e8a4  By BINYAMIN APPELBAUM      article   \n",
       "\n",
       "                        headline  \\\n",
       "0  Virtual Coins, Real Resources   \n",
       "\n",
       "                                            keywords  multimedia   newDesk  \\\n",
       "0  ['Bitcoin (Currency)', 'Electric Light and Pow...           1  Business   \n",
       "\n",
       "   printPage           pubDate sectionName  \\\n",
       "0          1  01-03-2018 00:17     Economy   \n",
       "\n",
       "                                             snippet              source  \\\n",
       "0  America has a productivity problem. One explan...  The New York Times   \n",
       "\n",
       "  typeOfMaterial                                             webURL  \\\n",
       "0           News  https://www.nytimes.com/2018/02/28/business/ec...   \n",
       "\n",
       "   articleWordCount  \n",
       "0              1207  "
      ]
     },
     "execution_count": 4,
     "metadata": {},
     "output_type": "execute_result"
    }
   ],
   "source": [
    "data.head(1)"
   ]
  },
  {
   "cell_type": "code",
   "execution_count": 5,
   "id": "4d4efe42-2894-4cf1-be0c-4bad636bc4fe",
   "metadata": {},
   "outputs": [],
   "source": [
    "# Extract headlines from the dataset\n",
    "headlines = data['headline'].values"
   ]
  },
  {
   "cell_type": "code",
   "execution_count": 6,
   "id": "05043b1b-e498-46db-8665-2e87a0aaf312",
   "metadata": {},
   "outputs": [],
   "source": [
    "# Function to clean and preprocess text\n",
    "stop_words = set(stopwords.words('english'))  # Set of English stopwords\n",
    "lemmatizer = WordNetLemmatizer()  # Initialize lemmatizer\n",
    "\n",
    "def clean_text(text):\n",
    "    \"\"\"\n",
    "    Clean and preprocess the text by:\n",
    "    - Converting to lowercase\n",
    "    - Removing numbers\n",
    "    - Removing extra spaces\n",
    "    - Removing punctuations\n",
    "    - Removing stopwords and lemmatizing words\n",
    "    \"\"\"\n",
    "    text = text.lower()  # Convert to lowercase\n",
    "    text = re.sub(r'\\d+', '', text)  # Remove numbers\n",
    "    text = re.sub(r'\\s+', ' ', text)  # Remove extra spaces\n",
    "    text = re.sub(r'[^\\w\\s]', '', text)  # Remove punctuations\n",
    "    text = ' '.join([lemmatizer.lemmatize(word) for word in text.split() if word not in stop_words])  # Remove stopwords and lemmatize\n",
    "    return text"
   ]
  },
  {
   "cell_type": "code",
   "execution_count": 7,
   "id": "f2bf2984-03a7-4841-b41d-d73066df34cc",
   "metadata": {},
   "outputs": [],
   "source": [
    "# Apply the cleaning function to all headlines\n",
    "headlines = [clean_text(headline) for headline in headlines]"
   ]
  },
  {
   "cell_type": "code",
   "execution_count": 8,
   "id": "b3003ca6-b28e-410e-b98e-0e57d1f5d84b",
   "metadata": {},
   "outputs": [],
   "source": [
    "# Tokenization: Convert text into sequences of integers\n",
    "tokenizer = Tokenizer()  # Initialize tokenizer\n",
    "tokenizer.fit_on_texts(headlines)  # Fit tokenizer on the text data\n",
    "total_words = len(tokenizer.word_index) + 1  # Total number of unique words (plus one for padding)"
   ]
  },
  {
   "cell_type": "code",
   "execution_count": 9,
   "id": "a944d61d-8aef-48b9-8ddc-0ca53019081e",
   "metadata": {},
   "outputs": [],
   "source": [
    "# Convert text sequences into numerical sequences\n",
    "input_sequences = []\n",
    "for line in headlines:\n",
    "    token_list = tokenizer.texts_to_sequences([line])[0]  # Convert text to sequence of integers\n",
    "    for i in range(1, len(token_list)):\n",
    "        n_gram_sequence = token_list[:i+1]  # Create n-gram sequence\n",
    "        input_sequences.append(n_gram_sequence)  # Add sequence to list"
   ]
  },
  {
   "cell_type": "code",
   "execution_count": 10,
   "id": "dada255f-8b16-4868-9f3b-182ecf1cc17c",
   "metadata": {},
   "outputs": [],
   "source": [
    "# Pad sequences to ensure uniform input size\n",
    "max_sequence_len = max([len(seq) for seq in input_sequences])  # Determine the maximum sequence length\n",
    "input_sequences = np.array(pad_sequences(input_sequences, maxlen=max_sequence_len, padding='pre'))  # Pad sequences"
   ]
  },
  {
   "cell_type": "code",
   "execution_count": 11,
   "id": "64a42812-72e4-4a8b-8d3d-2f02ec60ae7c",
   "metadata": {},
   "outputs": [],
   "source": [
    "# Prepare predictors (X) and labels (y)\n",
    "X, y = input_sequences[:,:-1], input_sequences[:,-1]  # Separate predictors and labels\n",
    "y = to_categorical(y, num_classes=total_words)  # One-hot encode the labels"
   ]
  },
  {
   "cell_type": "code",
   "execution_count": 12,
   "id": "7d177901-0f05-4382-aafc-91a30e4c76e8",
   "metadata": {},
   "outputs": [],
   "source": [
    "# Split the dataset into training and testing sets\n",
    "X_train, X_test, y_train, y_test = train_test_split(X, y, test_size=0.2, random_state=42)  # 80% train, 20% test"
   ]
  },
  {
   "cell_type": "markdown",
   "id": "5a72ae73-637c-4386-9611-31ca7b987aa4",
   "metadata": {},
   "source": [
    "# Model Building (Bidirectional LSTM)"
   ]
  },
  {
   "cell_type": "code",
   "execution_count": 13,
   "id": "2ce5522e-a174-49b5-979d-43e1ef71c543",
   "metadata": {},
   "outputs": [],
   "source": [
    "# Initialize the sequential model\n",
    "model = Sequential()\n",
    "model.add(Embedding(total_words, 100))  # Embedding layer to convert words into dense vectors (100 dimensions)\n",
    "model.add(Bidirectional(LSTM(150, return_sequences=True)))  # Bidirectional LSTM layer to capture context from both directions\n",
    "model.add(Dropout(0.2))  # Dropout layer to prevent overfitting (20% dropout rate)\n",
    "model.add(LSTM(100))  # LSTM layer to learn dependencies from sequences\n",
    "model.add(Dense(total_words, activation='softmax'))  # Dense output layer for prediction (softmax activation for multi-class classification)"
   ]
  },
  {
   "cell_type": "code",
   "execution_count": 14,
   "id": "713e615d-e652-4b67-b10d-c8f76114a257",
   "metadata": {},
   "outputs": [],
   "source": [
    "# Compile the model\n",
    "optimizer = Adam(learning_rate=0.001)  # Adam optimizer with initial learning rate\n",
    "model.compile(loss='categorical_crossentropy', optimizer=optimizer, metrics=['accuracy'])  # Compile the model with categorical crossentropy loss"
   ]
  },
  {
   "cell_type": "markdown",
   "id": "1d1163ba-6739-4844-a95c-5129272ee3c4",
   "metadata": {},
   "source": [
    "# Model Training with Learning Rate Scheduler"
   ]
  },
  {
   "cell_type": "code",
   "execution_count": 15,
   "id": "aeaed2a2-d378-482b-bb73-44de633dd718",
   "metadata": {},
   "outputs": [],
   "source": [
    "# Callbacks: learning rate scheduler, model checkpoint, and early stopping\n",
    "lr_scheduler = ReduceLROnPlateau(monitor='val_loss', patience=2, factor=0.5, min_lr=1e-5, verbose=1)  # Reduce learning rate when validation loss plateaus\n",
    "checkpoint = ModelCheckpoint('best_model.keras', monitor='val_loss', save_best_only=True, verbose=1)  # Save the best model based on validation loss\n",
    "early_stopping = EarlyStopping(monitor='val_loss', patience=3, restore_best_weights=True)  # Stop training if no improvement and restore the best weights"
   ]
  },
  {
   "cell_type": "code",
   "execution_count": 16,
   "id": "2ae0269f-e32a-4496-8e6b-01d8627ce595",
   "metadata": {},
   "outputs": [
    {
     "name": "stdout",
     "output_type": "stream",
     "text": [
      "Epoch 1/20\n",
      "\u001b[1m122/122\u001b[0m \u001b[32m━━━━━━━━━━━━━━━━━━━━\u001b[0m\u001b[37m\u001b[0m \u001b[1m0s\u001b[0m 49ms/step - accuracy: 0.0107 - loss: 8.0111\n",
      "Epoch 1: val_loss improved from inf to 7.99387, saving model to best_model.keras\n",
      "\u001b[1m122/122\u001b[0m \u001b[32m━━━━━━━━━━━━━━━━━━━━\u001b[0m\u001b[37m\u001b[0m \u001b[1m16s\u001b[0m 63ms/step - accuracy: 0.0107 - loss: 8.0110 - val_accuracy: 0.0206 - val_loss: 7.9939 - learning_rate: 0.0010\n",
      "Epoch 2/20\n",
      "\u001b[1m121/122\u001b[0m \u001b[32m━━━━━━━━━━━━━━━━━━━\u001b[0m\u001b[37m━\u001b[0m \u001b[1m0s\u001b[0m 57ms/step - accuracy: 0.0150 - loss: 7.6177\n",
      "Epoch 2: val_loss did not improve from 7.99387\n",
      "\u001b[1m122/122\u001b[0m \u001b[32m━━━━━━━━━━━━━━━━━━━━\u001b[0m\u001b[37m\u001b[0m \u001b[1m8s\u001b[0m 62ms/step - accuracy: 0.0150 - loss: 7.6178 - val_accuracy: 0.0206 - val_loss: 8.2233 - learning_rate: 0.0010\n",
      "Epoch 3/20\n",
      "\u001b[1m121/122\u001b[0m \u001b[32m━━━━━━━━━━━━━━━━━━━\u001b[0m\u001b[37m━\u001b[0m \u001b[1m0s\u001b[0m 52ms/step - accuracy: 0.0138 - loss: 7.4058\n",
      "Epoch 3: ReduceLROnPlateau reducing learning rate to 0.0005000000237487257.\n",
      "\n",
      "Epoch 3: val_loss did not improve from 7.99387\n",
      "\u001b[1m122/122\u001b[0m \u001b[32m━━━━━━━━━━━━━━━━━━━━\u001b[0m\u001b[37m\u001b[0m \u001b[1m7s\u001b[0m 57ms/step - accuracy: 0.0138 - loss: 7.4059 - val_accuracy: 0.0206 - val_loss: 8.6032 - learning_rate: 0.0010\n",
      "Epoch 4/20\n",
      "\u001b[1m122/122\u001b[0m \u001b[32m━━━━━━━━━━━━━━━━━━━━\u001b[0m\u001b[37m\u001b[0m \u001b[1m0s\u001b[0m 48ms/step - accuracy: 0.0126 - loss: 7.2148\n",
      "Epoch 4: val_loss did not improve from 7.99387\n",
      "\u001b[1m122/122\u001b[0m \u001b[32m━━━━━━━━━━━━━━━━━━━━\u001b[0m\u001b[37m\u001b[0m \u001b[1m6s\u001b[0m 52ms/step - accuracy: 0.0126 - loss: 7.2147 - val_accuracy: 0.0144 - val_loss: 8.9000 - learning_rate: 5.0000e-04\n"
     ]
    }
   ],
   "source": [
    "# Train the model\n",
    "epochs = 20\n",
    "history = model.fit(X_train, y_train, epochs=epochs, validation_data=(X_test, y_test), \n",
    "                    callbacks=[lr_scheduler, checkpoint, early_stopping], verbose=1)  # Train with callbacks"
   ]
  },
  {
   "cell_type": "markdown",
   "id": "2de9efd7-eeb9-48ab-943a-79b584426f12",
   "metadata": {},
   "source": [
    "# Text Generation Function"
   ]
  },
  {
   "cell_type": "code",
   "execution_count": 17,
   "id": "3c0a9abe-5cd6-49f9-b9d4-57e42cdafce1",
   "metadata": {},
   "outputs": [],
   "source": [
    "def generate_headline(seed_text, next_words, max_sequence_len):\n",
    "    \"\"\"\n",
    "    Generate text by predicting the next words given a seed text.\n",
    "    \"\"\"\n",
    "    for _ in range(next_words):\n",
    "        token_list = tokenizer.texts_to_sequences([seed_text])[0]  # Convert seed text to sequence\n",
    "        token_list = pad_sequences([token_list], maxlen=max_sequence_len-1, padding='pre')  # Pad sequence\n",
    "        predicted = np.argmax(model.predict(token_list, verbose=0), axis=-1)  # Predict next word\n",
    "        output_word = \"\"\n",
    "        for word, index in tokenizer.word_index.items():\n",
    "            if index == predicted:\n",
    "                output_word = word  # Find the corresponding word\n",
    "                break\n",
    "        seed_text += \" \" + output_word  # Append the predicted word to the seed text\n",
    "    return seed_text"
   ]
  },
  {
   "cell_type": "code",
   "execution_count": 18,
   "id": "e4a0d288-3671-4af8-894e-d2573943c8b0",
   "metadata": {},
   "outputs": [
    {
     "name": "stdout",
     "output_type": "stream",
     "text": [
      "Generated Headline: breaking news trump trump trump trump trump\n"
     ]
    }
   ],
   "source": [
    "# Example usage of the text generation function\n",
    "seed_text = \"breaking news\"\n",
    "generated_headline = generate_headline(seed_text, next_words=5, max_sequence_len=max_sequence_len)\n",
    "print(\"Generated Headline:\", generated_headline)  # Print the generated headline"
   ]
  },
  {
   "cell_type": "markdown",
   "id": "e713b5aa-1571-47ed-90fe-226ff767b8ca",
   "metadata": {},
   "source": [
    "# Plotting the Training and Validation Accuracy"
   ]
  },
  {
   "cell_type": "code",
   "execution_count": 19,
   "id": "97b60afc-5f45-4ec1-b0ee-07793f0ab5b4",
   "metadata": {},
   "outputs": [
    {
     "data": {
      "image/png": "[encoded data removed]",
      "text/plain": [
       "<Figure size 640x480 with 1 Axes>"
      ]
     },
     "metadata": {},
     "output_type": "display_data"
    }
   ],
   "source": [
    "# Plot training and validation accuracy\n",
    "plt.plot(history.history['accuracy'], label='Train Accuracy')  # Plot training accuracy\n",
    "plt.plot(history.history['val_accuracy'], label='Val Accuracy')  # Plot validation accuracy\n",
    "plt.title('Model Accuracy')  # Title of the plot\n",
    "plt.ylabel('Accuracy')  # Y-axis label\n",
    "plt.xlabel('Epoch')  # X-axis label\n",
    "plt.legend(loc='upper left')  # Legend position\n",
    "plt.show()  # Display the plot"
   ]
  },
  {
   "cell_type": "code",
   "execution_count": null,
   "id": "7c9a2445-9b66-4daa-afc2-1872ac51804d",
   "metadata": {},
   "outputs": [],
   "source": []
  }
 ],
 "metadata": {
  "kernelspec": {
   "display_name": "Python 3 (ipykernel)",
   "language": "python",
   "name": "python3"
  },
  "language_info": {
   "codemirror_mode": {
    "name": "ipython",
    "version": 3
   },
   "file_extension": ".py",
   "mimetype": "text/x-python",
   "name": "python",
   "nbconvert_exporter": "python",
   "pygments_lexer": "ipython3",
   "version": "3.12.7"
  }
 },
 "nbformat": 4,
 "nbformat_minor": 5
}
